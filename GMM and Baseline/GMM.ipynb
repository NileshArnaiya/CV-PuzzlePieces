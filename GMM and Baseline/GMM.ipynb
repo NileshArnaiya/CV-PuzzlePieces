{
 "cells": [
  {
   "cell_type": "markdown",
   "id": "419a3eda",
   "metadata": {},
   "source": [
    "# Gaussian Mixture Models (GMM)"
   ]
  },
  {
   "cell_type": "markdown",
   "id": "c8e38093",
   "metadata": {},
   "source": [
    "### Description"
   ]
  },
  {
   "cell_type": "markdown",
   "id": "00c0b4c4",
   "metadata": {},
   "source": [
    "The Mixture of Gaussian (MoG) or Gaussian Mixture Models (GMM) is a prototypical exmaple of a model where learning is suited to the Expectation Maximization algorithm (EM-Algorithm). The date are described as a weighted sum of K normal distributions\n",
    "\\begin{align}\n",
    "Pr(X_i|\\theta) = \\sum_{k=1}^{K} \\lambda_k \\text{Norm}_{X_i} [\\mu_k, \\Sigma_k],\n",
    "\\end{align}\n",
    "where $\\mu_{1...K}$ and $\\Sigma_{1...K}$ are the means and the covariances of the normal distributions and $\\lambda_{1...K}$ are positive valued weights that sum to one."
   ]
  },
  {
   "cell_type": "markdown",
   "id": "c309282d",
   "metadata": {},
   "source": [
    "In the expectation step :\n",
    "\\begin{align}\n",
    "r_{ik} = \\dfrac{\\lambda_k \\text{Norm}_{X_i} [\\mu_k, \\Sigma_k]}{\\sum_{j=1}^{K} \\lambda_j \\text{Norm}_{X_i} [\\mu_j, \\Sigma_j]}\n",
    "\\end{align}\n",
    "\n",
    "In the Maximization step :\n",
    "\\begin{align}\n",
    "\\begin{cases}\n",
    "\\lambda_k^{[t+1]} = \\dfrac{\\sum_{i=1}^{K}r_{ik}}{\\sum_{j=1}^{K} \\sum_{i=1}^{I}r_{ij}},\n",
    "\\\\\\mu_{k}^{[t+1]} = \\dfrac{\\sum_{i=1}^{K}r_{ik}X_i}{\\sum_{i=1}^{I}r_{ij}},\n",
    "\\\\\\Sigma_{k}^{[t+1]} = \\dfrac{\\sum_{i=1}^{K}r_{ik}(X_i - \\mu_{k}^{[t+1]})(X_i - \\mu_{k}^{[t+1]})^T}{\\sum_{i=1}^{I}r_{ij}}.\n",
    "\\end{cases}\n",
    "\\end{align}"
   ]
  },
  {
   "cell_type": "code",
   "execution_count": 84,
   "id": "3ba51e6d",
   "metadata": {},
   "outputs": [],
   "source": [
    "import numpy as np\n",
    "from scipy.stats import multivariate_normal\n",
    "import cv2\n",
    "import matplotlib.pyplot as plt\n",
    "from natsort import natsorted\n",
    "from glob import glob\n",
    "import skimage\n",
    "from skimage import img_as_float32\n",
    "import imageio as iio\n",
    "import json\n",
    "import random\n",
    "import math"
   ]
  },
  {
   "cell_type": "code",
   "execution_count": 27,
   "id": "69840df9",
   "metadata": {},
   "outputs": [],
   "source": [
    "class GaussianMixtureModel:\n",
    "    def __init__(self, k, max_iter=5):\n",
    "        self.k = k\n",
    "        self.max_iter = int(max_iter)\n",
    "\n",
    "    def initialize(self, X):\n",
    "        # returns the (r,c) value of the numpy array of X\n",
    "        self.shape = X.shape \n",
    "        # n has the number of rows while m has the number of columns of dataset X\n",
    "        self.n, self.m = self.shape \n",
    "        \n",
    "\n",
    "        # initial weights given to each cluster are stored in phi or P(Ci=j)\n",
    "        self.Lambda = np.full(shape=self.k, fill_value=1/self.k) \n",
    "\n",
    "        # initial weights given to each data point wrt to each cluster or P(Xi/Ci=j)\n",
    "        self.weights = np.full(shape=self.shape, fill_value=1/self.k)\n",
    "        \n",
    "        # dataset is divided randomly into k parts of unequal sizes\n",
    "        random_row = np.random.randint(low=0, high=self.n, size=self.k)\n",
    "\n",
    "        # initial value of mean of k Gaussians\n",
    "        self.mu = [ X[row_index,:] for row_index in random_row ] \n",
    "\n",
    "        # initial value of covariance matrix of k Gaussians\n",
    "        self.sigma = [ np.cov(X.T) for _ in range(self.k) ] \n",
    "        # theta =(mu_1,sigma_1,mu_2,simga_2......mu_k,sigma_k)\n",
    "\n",
    "    # E-Step: update weights and phi holding mu and sigma constant\n",
    "    def e_step(self, X):\n",
    "        # updated weights or P(Xi/Ci=j)\n",
    "        self.weights = self.predict_proba(X)\n",
    "        # mean of sum of probability of all data points wrt to one cluster is new updated probability of cluster k \n",
    "        # or lambda_k\n",
    "        self.Lambda = self.weights.mean(axis=0)\n",
    "\n",
    "    # M-Step: update meu and sigma holding phi and weights constant\n",
    "    def m_step(self, X):\n",
    "        for i in range(self.k):\n",
    "            weight = self.weights[:, [i]]\n",
    "            total_weight = weight.sum()\n",
    "\n",
    "            self.mu[i] = (X * weight).sum(axis=0) / total_weight\n",
    "            self.sigma[i] = np.cov(X.T,aweights=(weight/total_weight).flatten(), bias=True)\n",
    "\n",
    "    # responsible for clustering the data points correctly\n",
    "    def fit(self, X):\n",
    "        # initialise parameters like weights: responsability, lambda, mu, sigma of all Gaussians in dataset X\n",
    "        self.initialize(X)\n",
    "        plt.figure(figsize=(16, 25))\n",
    "        for iteration in range(self.max_iter):\n",
    "            permutation = np.array([mode(Image.target[gmm.predict(X) == i]).mode.item() for i in range(gmm.k)])\n",
    "            permuted_prediction = permutation[gmm.predict(X)]\n",
    "            print('\\nThe accuracy of the permuted prediction against target before iteration ',iteration+1,end=\"\")\n",
    "            print(': ',np.mean(Image.target == permuted_prediction))\n",
    "            print('\\n')\n",
    "            confusion_matrix(Image.target, permuted_prediction)\n",
    "            plt.title(' Iteration Cluster')\n",
    "            plt.subplot(5,3,iteration+1)\n",
    "            clusters=permuted_prediction\n",
    "            plt.xlabel(Image.feature_names[0])\n",
    "            plt.ylabel(Image.feature_names[1])\n",
    "            plt.scatter(jitter(X[:, 0]), jitter(X[:, 1]), c=clusters, cmap=plt.cm.get_cmap('brg'),marker='.')\n",
    "            plt.grid()\n",
    "            plt.tight_layout()\n",
    "            # iterate to update the value of P(Xi/Ci=j) and (phi)k\n",
    "            self.e_step(X)\n",
    "            # iterate to update the value of meu and sigma as the clusters shift\n",
    "            self.m_step(X)\n",
    "            \n",
    "    # predicts probability of each data point wrt each cluster\n",
    "    def predict_proba(self, X):\n",
    "        # Creates a n*k matrix denoting probability of each point wrt each cluster \n",
    "        likelihood = np.zeros( (self.n, self.k) ) \n",
    "        for i in range(self.k):\n",
    "            distribution = multivariate_normal(mean=self.mu[i],cov=self.sigma[i])\n",
    "            # pdf : probability denisty function\n",
    "            likelihood[:,i] = distribution.pdf(X) \n",
    "\n",
    "        numerator = likelihood * self.phi\n",
    "        denominator = numerator.sum(axis=1)[:, np.newaxis]\n",
    "        weights = numerator / denominator\n",
    "        return weights\n",
    "    \n",
    "    # predict function \n",
    "    def predict(self, X):\n",
    "        weights = self.predict_proba(X)\n",
    "        # datapoint belongs to cluster with maximum probability\n",
    "        # returns this value\n",
    "        return np.argmax(weights, axis=1)"
   ]
  },
  {
   "cell_type": "code",
   "execution_count": 271,
   "id": "97d001be",
   "metadata": {},
   "outputs": [
    {
     "name": "stderr",
     "output_type": "stream",
     "text": [
      "C:\\Users\\abdel\\anaconda3\\envs\\rstudio\\lib\\site-packages\\ipykernel_launcher.py:6: DeprecationWarning: Starting with ImageIO v3 the behavior of this function will switch to that of iio.v3.imread. To keep the current behavior (and make this warning dissapear) use `import imageio.v2 as imageio` or call `imageio.v2.imread` directly.\n",
      "  \n",
      "C:\\Users\\abdel\\anaconda3\\envs\\rstudio\\lib\\site-packages\\ipykernel_launcher.py:7: DeprecationWarning: Starting with ImageIO v3 the behavior of this function will switch to that of iio.v3.imread. To keep the current behavior (and make this warning dissapear) use `import imageio.v2 as imageio` or call `imageio.v2.imread` directly.\n",
      "  import sys\n"
     ]
    }
   ],
   "source": [
    "path_pairs = list(zip(\n",
    "    natsorted(glob('./puzzle_corners_1024x768/images-1024x768/*.png')),\n",
    "    natsorted(glob('./puzzle_corners_1024x768/masks-1024x768/*.png')),\n",
    "))\n",
    "\n",
    "imgs = np.array([img_as_float32(iio.imread(ipath)) for ipath, _ in path_pairs])\n",
    "msks = np.array([img_as_float32(iio.imread(mpath)) for _, mpath in path_pairs])"
   ]
  },
  {
   "cell_type": "code",
   "execution_count": 273,
   "id": "449392fd",
   "metadata": {},
   "outputs": [
    {
     "data": {
      "text/plain": [
       "(48, 768, 1024, 3)"
      ]
     },
     "execution_count": 273,
     "metadata": {},
     "output_type": "execute_result"
    }
   ],
   "source": [
    "imgs.shape"
   ]
  },
  {
   "cell_type": "markdown",
   "id": "d15ddfa7",
   "metadata": {},
   "source": [
    "Helper function to divide the data into training (70%), validation (15%) and test (15%) sets."
   ]
  },
  {
   "cell_type": "code",
   "execution_count": 293,
   "id": "be255b3d",
   "metadata": {},
   "outputs": [],
   "source": [
    "X = imgs\n",
    "Y = msks\n",
    "\n",
    "from sklearn.model_selection import train_test_split\n",
    "\n",
    "x_train, x_test, y_train, y_test = train_test_split(X, Y, test_size=0.15, random_state=1)\n",
    "\n",
    "x_train, x_val, y_train, y_val = train_test_split(x_train, y_train, test_size=0.17, random_state=1)"
   ]
  },
  {
   "cell_type": "code",
   "execution_count": 294,
   "id": "dbf962fc",
   "metadata": {},
   "outputs": [
    {
     "data": {
      "text/plain": [
       "(33, 768, 1024, 3)"
      ]
     },
     "execution_count": 294,
     "metadata": {},
     "output_type": "execute_result"
    }
   ],
   "source": [
    "x_train.shape\n"
   ]
  },
  {
   "cell_type": "code",
   "execution_count": 295,
   "id": "7a148f2c",
   "metadata": {},
   "outputs": [
    {
     "data": {
      "text/plain": [
       "(7, 768, 1024, 3)"
      ]
     },
     "execution_count": 295,
     "metadata": {},
     "output_type": "execute_result"
    }
   ],
   "source": [
    "x_val.shape"
   ]
  },
  {
   "cell_type": "code",
   "execution_count": 296,
   "id": "e0157afc",
   "metadata": {},
   "outputs": [
    {
     "data": {
      "text/plain": [
       "(33, 768, 1024)"
      ]
     },
     "execution_count": 296,
     "metadata": {},
     "output_type": "execute_result"
    }
   ],
   "source": [
    "y_train.shape"
   ]
  },
  {
   "cell_type": "code",
   "execution_count": 297,
   "id": "bbd2b788",
   "metadata": {},
   "outputs": [
    {
     "data": {
      "text/plain": [
       "(7, 768, 1024)"
      ]
     },
     "execution_count": 297,
     "metadata": {},
     "output_type": "execute_result"
    }
   ],
   "source": [
    "y_val.shape"
   ]
  },
  {
   "cell_type": "code",
   "execution_count": 5,
   "id": "9f8d4028",
   "metadata": {},
   "outputs": [
    {
     "ename": "NameError",
     "evalue": "name 'X' is not defined",
     "output_type": "error",
     "traceback": [
      "\u001b[1;31m---------------------------------------------------------------------------\u001b[0m",
      "\u001b[1;31mNameError\u001b[0m                                 Traceback (most recent call last)",
      "\u001b[1;32m~\\AppData\\Local\\Temp\\ipykernel_24788\\2165059006.py\u001b[0m in \u001b[0;36m<module>\u001b[1;34m\u001b[0m\n\u001b[0;32m      1\u001b[0m \u001b[0mnp\u001b[0m\u001b[1;33m.\u001b[0m\u001b[0mrandom\u001b[0m\u001b[1;33m.\u001b[0m\u001b[0mseed\u001b[0m\u001b[1;33m(\u001b[0m\u001b[1;36m42\u001b[0m\u001b[1;33m)\u001b[0m\u001b[1;33m\u001b[0m\u001b[1;33m\u001b[0m\u001b[0m\n\u001b[0;32m      2\u001b[0m \u001b[0mgmm\u001b[0m \u001b[1;33m=\u001b[0m \u001b[0mGaussianMixtureModel\u001b[0m\u001b[1;33m(\u001b[0m\u001b[0mk\u001b[0m\u001b[1;33m=\u001b[0m\u001b[1;36m3\u001b[0m\u001b[1;33m,\u001b[0m \u001b[0mmax_iter\u001b[0m\u001b[1;33m=\u001b[0m\u001b[1;36m14\u001b[0m\u001b[1;33m)\u001b[0m\u001b[1;33m\u001b[0m\u001b[1;33m\u001b[0m\u001b[0m\n\u001b[1;32m----> 3\u001b[1;33m \u001b[0mgmm\u001b[0m\u001b[1;33m.\u001b[0m\u001b[0mfit\u001b[0m\u001b[1;33m(\u001b[0m\u001b[0mX\u001b[0m\u001b[1;33m)\u001b[0m\u001b[1;33m\u001b[0m\u001b[1;33m\u001b[0m\u001b[0m\n\u001b[0m",
      "\u001b[1;31mNameError\u001b[0m: name 'X' is not defined"
     ]
    }
   ],
   "source": [
    "np.random.seed(42)\n",
    "gmm = GaussianMixtureModel(k=3, max_iter=14)\n",
    "gmm.fit(X)"
   ]
  },
  {
   "cell_type": "code",
   "execution_count": null,
   "id": "cc8b8e47",
   "metadata": {},
   "outputs": [],
   "source": []
  }
 ],
 "metadata": {
  "kernelspec": {
   "display_name": "Python 3 (ipykernel)",
   "language": "python",
   "name": "python3"
  },
  "language_info": {
   "codemirror_mode": {
    "name": "ipython",
    "version": 3
   },
   "file_extension": ".py",
   "mimetype": "text/x-python",
   "name": "python",
   "nbconvert_exporter": "python",
   "pygments_lexer": "ipython3",
   "version": "3.7.1"
  }
 },
 "nbformat": 4,
 "nbformat_minor": 5
}
